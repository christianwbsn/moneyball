{
 "cells": [
  {
   "cell_type": "markdown",
   "metadata": {},
   "source": [
    "# Building Dataset for UEFA Euro 2020 Fantasy Football"
   ]
  },
  {
   "cell_type": "code",
   "execution_count": 1,
   "metadata": {},
   "outputs": [],
   "source": [
    "import pandas as pd\n",
    "import numpy as np\n",
    "import seaborn as sns\n",
    "\n",
    "import json"
   ]
  },
  {
   "cell_type": "code",
   "execution_count": 2,
   "metadata": {},
   "outputs": [],
   "source": [
    "DATA_DIR = '../data'"
   ]
  },
  {
   "cell_type": "markdown",
   "metadata": {},
   "source": [
    "## Main Dataset"
   ]
  },
  {
   "cell_type": "code",
   "execution_count": 3,
   "metadata": {},
   "outputs": [],
   "source": [
    "players = pd.read_excel(\"{}/raw/fantasy_data.xlsx\".format(DATA_DIR), sheet_name=0)\n",
    "goalie = pd.read_excel(\"{}/raw/fantasy_data.xlsx\".format(DATA_DIR), sheet_name=1)"
   ]
  },
  {
   "cell_type": "code",
   "execution_count": 4,
   "metadata": {},
   "outputs": [],
   "source": [
    "def euro_fantasy_score(df):\n",
    "    score = 1\n",
    "    if df[\"Game Started\"] > 0:\n",
    "        score += 1\n",
    "    if df[\"Min\"] >= 60:\n",
    "        score += 1\n",
    "    if df[\"Assists\"] > 0:\n",
    "        score += (df[\"Assists\"] * 3)\n",
    "    if df[\"Penalty Kick Miss\"] > 0:\n",
    "        score -= (df[\"Penalty Kick Miss\"] * 2)\n",
    "    if df[\"Yellow Cards\"] > 0:\n",
    "        score -= 1\n",
    "    if df[\"Red Cards\"] > 0:\n",
    "        score -= 3\n",
    "    if df[\"Position\"] == \"F\":\n",
    "        score += (df[\"Goals\"] * 4)\n",
    "        score += (df[\"Shots On Goal\"] * 1)\n",
    "        score += (df[\"Fouls Drawn\"] * 0.5)\n",
    "    if df[\"Position\"] == \"M\" or df['Position'] == \"M/F\":\n",
    "        score += (df[\"Goals\"] * 5)\n",
    "        if (df[\"Accurate Passes\"] >= 30):\n",
    "            score += 3\n",
    "        if df[\"Min\"] >= 60 and df[\"Clean Sheet\"] > 0:\n",
    "            score += 1\n",
    "    if df[\"Position\"] == \"D\":\n",
    "        score += (df[\"Goals\"] * 6)\n",
    "        score -= (df[\"Fouls Committed\"] * 0.5)\n",
    "        if df[\"Min\"] >= 60 and df[\"Clean Sheet\"] > 0:\n",
    "            score += 4\n",
    "        score -= (df['Goals Allowed'] // 2)\n",
    "    if df[\"Position\"] == \"GK\":\n",
    "        score += (df[\"Goals\"] * 6)\n",
    "        score += (df[\"Penalty Kick Saved\"] * 5)\n",
    "        if df[\"Min\"] >= 60 and df[\"Clean Sheet\"] > 0:\n",
    "            score += 4\n",
    "        score += (df[\"Saves\"] // 3)\n",
    "        score -= (df['Goals Allowed'] // 2)\n",
    "    return score"
   ]
  },
  {
   "cell_type": "code",
   "execution_count": 5,
   "metadata": {},
   "outputs": [],
   "source": [
    "def get_agg_before(df):\n",
    "    df_new = df.copy()\n",
    "    merged_df = pd.merge(df, df_new, on=[\"Player\", \"TeamName\"])\n",
    "    merged_df = merged_df[merged_df['Date_y'] < merged_df[\"Date_x\"]]\n",
    "    merged_df = merged_df.groupby([\"Player\", \"TeamName\", \"Date_x\"]).agg(prev_mean_euro_score=(\"euro_score_y\", \"mean\"),\n",
    "                                                                        prev_mean_goals=(\"Goals_y\", \"mean\"),\n",
    "                                                                        prev_mean_assists=(\"Assists_y\", \"mean\"),\n",
    "                                                                        prev_median_min=(\"Min_y\", \"median\"),\n",
    "                                                                        prev_starter_rate=(\"Game Started_y\", \"mean\"))\n",
    "    merged_df = merged_df.reset_index()\n",
    "    merged_df.rename(columns={\"Date_x\": \"Date\"}, inplace=True)\n",
    "    return merged_df"
   ]
  },
  {
   "cell_type": "code",
   "execution_count": 6,
   "metadata": {},
   "outputs": [],
   "source": [
    "players['euro_score'] = players.apply(euro_fantasy_score, axis=1)\n",
    "agg_players = get_agg_before(players)\n",
    "temp_player = players[[\"Player\", \"Date\", \"LeagueName\", \"TeamName\", \"OpponentName\", \"Position\", \"euro_score\"]]\n",
    "temp_player = pd.merge(temp_player, agg_players, on=[\"Player\", \"TeamName\", \"Date\"])"
   ]
  },
  {
   "cell_type": "code",
   "execution_count": 7,
   "metadata": {},
   "outputs": [],
   "source": [
    "goalie[\"euro_score\"] = goalie.apply(euro_fantasy_score, axis=1)\n",
    "agg_goalie = get_agg_before(goalie)\n",
    "temp_goalie = goalie[[\"Player\", \"Date\", \"LeagueName\", \"TeamName\", \"OpponentName\", \"Position\", \"euro_score\"]]\n",
    "temp_goalie = pd.merge(temp_goalie, agg_goalie, on=[\"Player\", \"TeamName\", \"Date\"])"
   ]
  },
  {
   "cell_type": "code",
   "execution_count": 8,
   "metadata": {},
   "outputs": [],
   "source": [
    "df = pd.concat([temp_player, temp_goalie])\n",
    "df[\"is_friendlies\"] = df[\"LeagueName\"] == \"International Friendlies\""
   ]
  },
  {
   "cell_type": "code",
   "execution_count": 9,
   "metadata": {},
   "outputs": [
    {
     "data": {
      "text/plain": [
       "Index(['Player', 'Date', 'LeagueName', 'TeamName', 'OpponentName', 'Position',\n",
       "       'euro_score', 'prev_mean_euro_score', 'prev_mean_goals',\n",
       "       'prev_mean_assists', 'prev_median_min', 'prev_starter_rate',\n",
       "       'is_friendlies'],\n",
       "      dtype='object')"
      ]
     },
     "execution_count": 9,
     "metadata": {},
     "output_type": "execute_result"
    }
   ],
   "source": [
    "df.columns"
   ]
  },
  {
   "cell_type": "code",
   "execution_count": 10,
   "metadata": {},
   "outputs": [],
   "source": [
    "df.columns = [\"player_name\", \"date\", \"league_name\", \"team_name\", \"opponent_name\", \"position\", \"euro_score\", 'prev_mean_euro_score', 'prev_mean_goals', 'prev_mean_assists', 'prev_median_min', 'prev_starter_rate', \"is_friendlies\"]\n",
    "df = df.sort_values(by=[\"player_name\",\"date\"])"
   ]
  },
  {
   "cell_type": "code",
   "execution_count": 11,
   "metadata": {},
   "outputs": [],
   "source": [
    "df.loc[df[\"position\"] == \"M/F\", \"position\"] = \"M\""
   ]
  },
  {
   "cell_type": "markdown",
   "metadata": {},
   "source": [
    "## FIFA Rank Dataset"
   ]
  },
  {
   "cell_type": "code",
   "execution_count": 12,
   "metadata": {},
   "outputs": [
    {
     "data": {
      "text/plain": [
       "Timestamp('2018-09-09 00:00:00')"
      ]
     },
     "execution_count": 12,
     "metadata": {},
     "output_type": "execute_result"
    }
   ],
   "source": [
    "df[\"date\"].min()"
   ]
  },
  {
   "cell_type": "code",
   "execution_count": 13,
   "metadata": {},
   "outputs": [],
   "source": [
    "fifa_rank = pd.read_csv(\"{}/raw/fifa_ranking-2021-05-27.csv\".format(DATA_DIR))"
   ]
  },
  {
   "cell_type": "code",
   "execution_count": 14,
   "metadata": {},
   "outputs": [],
   "source": [
    "fifa_rank = fifa_rank[fifa_rank[\"rank_date\"] > '2018-09-09']\n",
    "fifa_rank = fifa_rank[[\"country_full\", \"rank\", \"total_points\", \"rank_date\"]]\n",
    "fifa_rank = fifa_rank.sort_values(by=[\"country_full\", \"rank_date\"])"
   ]
  },
  {
   "cell_type": "code",
   "execution_count": 15,
   "metadata": {},
   "outputs": [
    {
     "data": {
      "text/html": [
       "<div>\n",
       "<style scoped>\n",
       "    .dataframe tbody tr th:only-of-type {\n",
       "        vertical-align: middle;\n",
       "    }\n",
       "\n",
       "    .dataframe tbody tr th {\n",
       "        vertical-align: top;\n",
       "    }\n",
       "\n",
       "    .dataframe thead th {\n",
       "        text-align: right;\n",
       "    }\n",
       "</style>\n",
       "<table border=\"1\" class=\"dataframe\">\n",
       "  <thead>\n",
       "    <tr style=\"text-align: right;\">\n",
       "      <th></th>\n",
       "      <th>country_full</th>\n",
       "      <th>rank</th>\n",
       "      <th>total_points</th>\n",
       "      <th>rank_date</th>\n",
       "    </tr>\n",
       "  </thead>\n",
       "  <tbody>\n",
       "    <tr>\n",
       "      <th>58414</th>\n",
       "      <td>Afghanistan</td>\n",
       "      <td>146</td>\n",
       "      <td>1068</td>\n",
       "      <td>2018-09-20</td>\n",
       "    </tr>\n",
       "    <tr>\n",
       "      <th>58626</th>\n",
       "      <td>Afghanistan</td>\n",
       "      <td>145</td>\n",
       "      <td>1068</td>\n",
       "      <td>2018-10-25</td>\n",
       "    </tr>\n",
       "    <tr>\n",
       "      <th>58836</th>\n",
       "      <td>Afghanistan</td>\n",
       "      <td>147</td>\n",
       "      <td>1068</td>\n",
       "      <td>2018-11-29</td>\n",
       "    </tr>\n",
       "    <tr>\n",
       "      <th>59046</th>\n",
       "      <td>Afghanistan</td>\n",
       "      <td>147</td>\n",
       "      <td>1068</td>\n",
       "      <td>2018-12-20</td>\n",
       "    </tr>\n",
       "    <tr>\n",
       "      <th>59256</th>\n",
       "      <td>Afghanistan</td>\n",
       "      <td>147</td>\n",
       "      <td>1066</td>\n",
       "      <td>2019-02-07</td>\n",
       "    </tr>\n",
       "    <tr>\n",
       "      <th>...</th>\n",
       "      <td>...</td>\n",
       "      <td>...</td>\n",
       "      <td>...</td>\n",
       "      <td>...</td>\n",
       "    </tr>\n",
       "    <tr>\n",
       "      <th>62107</th>\n",
       "      <td>Zimbabwe</td>\n",
       "      <td>108</td>\n",
       "      <td>1181</td>\n",
       "      <td>2020-11-26</td>\n",
       "    </tr>\n",
       "    <tr>\n",
       "      <th>62241</th>\n",
       "      <td>Zimbabwe</td>\n",
       "      <td>108</td>\n",
       "      <td>1181</td>\n",
       "      <td>2020-12-10</td>\n",
       "    </tr>\n",
       "    <tr>\n",
       "      <th>62455</th>\n",
       "      <td>Zimbabwe</td>\n",
       "      <td>112</td>\n",
       "      <td>1176</td>\n",
       "      <td>2021-02-18</td>\n",
       "    </tr>\n",
       "    <tr>\n",
       "      <th>62794</th>\n",
       "      <td>Zimbabwe</td>\n",
       "      <td>107</td>\n",
       "      <td>1175</td>\n",
       "      <td>2021-04-07</td>\n",
       "    </tr>\n",
       "    <tr>\n",
       "      <th>63000</th>\n",
       "      <td>Zimbabwe</td>\n",
       "      <td>107</td>\n",
       "      <td>1175</td>\n",
       "      <td>2021-05-27</td>\n",
       "    </tr>\n",
       "  </tbody>\n",
       "</table>\n",
       "<p>4838 rows × 4 columns</p>\n",
       "</div>"
      ],
      "text/plain": [
       "      country_full  rank  total_points   rank_date\n",
       "58414  Afghanistan   146          1068  2018-09-20\n",
       "58626  Afghanistan   145          1068  2018-10-25\n",
       "58836  Afghanistan   147          1068  2018-11-29\n",
       "59046  Afghanistan   147          1068  2018-12-20\n",
       "59256  Afghanistan   147          1066  2019-02-07\n",
       "...            ...   ...           ...         ...\n",
       "62107     Zimbabwe   108          1181  2020-11-26\n",
       "62241     Zimbabwe   108          1181  2020-12-10\n",
       "62455     Zimbabwe   112          1176  2021-02-18\n",
       "62794     Zimbabwe   107          1175  2021-04-07\n",
       "63000     Zimbabwe   107          1175  2021-05-27\n",
       "\n",
       "[4838 rows x 4 columns]"
      ]
     },
     "execution_count": 15,
     "metadata": {},
     "output_type": "execute_result"
    }
   ],
   "source": [
    "fifa_rank"
   ]
  },
  {
   "cell_type": "code",
   "execution_count": 16,
   "metadata": {},
   "outputs": [],
   "source": [
    "df_with_rank = pd.merge(df[[\"team_name\", \"date\"]], fifa_rank, how=\"left\", left_on=\"team_name\", right_on=\"country_full\")\n",
    "df_with_rank[\"rank_date\"] = pd.to_datetime(df_with_rank['rank_date'])\n",
    "df_with_rank[\"time_diff\"] = df_with_rank.apply(lambda x: (x['date']-x['rank_date']).total_seconds(), axis=1)\n",
    "df_with_rank = df_with_rank[df_with_rank[\"time_diff\"] > 0]\n",
    "df_with_rank = df_with_rank.sort_values(by=[\"team_name\", \"time_diff\"], ascending=False)\n",
    "df_with_rank = df_with_rank.groupby([\"team_name\", \"date\"]).agg(team_rank=(\"rank\", \"last\"),\n",
    "                                                               team_total_points=(\"total_points\", \"last\")).reset_index()"
   ]
  },
  {
   "cell_type": "code",
   "execution_count": 17,
   "metadata": {},
   "outputs": [],
   "source": [
    "df = pd.merge(df, df_with_rank, on=[\"team_name\", \"date\"], how=\"left\")"
   ]
  },
  {
   "cell_type": "code",
   "execution_count": 18,
   "metadata": {},
   "outputs": [],
   "source": [
    "df_with_rank = pd.merge(df[[\"opponent_name\", \"date\"]], fifa_rank, how=\"left\", left_on=\"opponent_name\", right_on=\"country_full\")\n",
    "df_with_rank[\"rank_date\"] = pd.to_datetime(df_with_rank['rank_date'])\n",
    "df_with_rank[\"time_diff\"] = df_with_rank.apply(lambda x: (x['date']-x['rank_date']).total_seconds(), axis=1)\n",
    "df_with_rank = df_with_rank[df_with_rank[\"time_diff\"] > 0]\n",
    "df_with_rank = df_with_rank.sort_values(by=[\"opponent_name\", \"time_diff\"], ascending=False)\n",
    "df_with_rank = df_with_rank.groupby([\"opponent_name\", \"date\"]).agg(opponent_rank=(\"rank\", \"last\"),\n",
    "                                                                   opponent_total_points=(\"total_points\", \"last\")).reset_index()"
   ]
  },
  {
   "cell_type": "code",
   "execution_count": 19,
   "metadata": {},
   "outputs": [],
   "source": [
    "df = pd.merge(df, df_with_rank, on=[\"opponent_name\", \"date\"], how=\"left\")"
   ]
  },
  {
   "cell_type": "code",
   "execution_count": 20,
   "metadata": {},
   "outputs": [
    {
     "data": {
      "text/html": [
       "<div>\n",
       "<style scoped>\n",
       "    .dataframe tbody tr th:only-of-type {\n",
       "        vertical-align: middle;\n",
       "    }\n",
       "\n",
       "    .dataframe tbody tr th {\n",
       "        vertical-align: top;\n",
       "    }\n",
       "\n",
       "    .dataframe thead th {\n",
       "        text-align: right;\n",
       "    }\n",
       "</style>\n",
       "<table border=\"1\" class=\"dataframe\">\n",
       "  <thead>\n",
       "    <tr style=\"text-align: right;\">\n",
       "      <th></th>\n",
       "      <th>player_name</th>\n",
       "      <th>date</th>\n",
       "      <th>league_name</th>\n",
       "      <th>team_name</th>\n",
       "      <th>opponent_name</th>\n",
       "      <th>position</th>\n",
       "      <th>euro_score</th>\n",
       "      <th>prev_mean_euro_score</th>\n",
       "      <th>prev_mean_goals</th>\n",
       "      <th>prev_mean_assists</th>\n",
       "      <th>prev_median_min</th>\n",
       "      <th>prev_starter_rate</th>\n",
       "      <th>is_friendlies</th>\n",
       "      <th>team_rank</th>\n",
       "      <th>team_total_points</th>\n",
       "      <th>opponent_rank</th>\n",
       "      <th>opponent_total_points</th>\n",
       "    </tr>\n",
       "  </thead>\n",
       "  <tbody>\n",
       "    <tr>\n",
       "      <th>0</th>\n",
       "      <td>Emerson</td>\n",
       "      <td>2019-06-11</td>\n",
       "      <td>European Championship Qualifiers</td>\n",
       "      <td>Italy</td>\n",
       "      <td>Bosnia and Herzegovina</td>\n",
       "      <td>D</td>\n",
       "      <td>2.5</td>\n",
       "      <td>10.000000</td>\n",
       "      <td>0.0</td>\n",
       "      <td>1.000000</td>\n",
       "      <td>68.0</td>\n",
       "      <td>1.0</td>\n",
       "      <td>False</td>\n",
       "      <td>17.0</td>\n",
       "      <td>1550.0</td>\n",
       "      <td>35.0</td>\n",
       "      <td>1478.0</td>\n",
       "    </tr>\n",
       "    <tr>\n",
       "      <th>1</th>\n",
       "      <td>Emerson</td>\n",
       "      <td>2019-09-05</td>\n",
       "      <td>European Championship Qualifiers</td>\n",
       "      <td>Italy</td>\n",
       "      <td>Armenia</td>\n",
       "      <td>D</td>\n",
       "      <td>6.0</td>\n",
       "      <td>6.250000</td>\n",
       "      <td>0.0</td>\n",
       "      <td>0.500000</td>\n",
       "      <td>79.0</td>\n",
       "      <td>1.0</td>\n",
       "      <td>False</td>\n",
       "      <td>16.0</td>\n",
       "      <td>1569.0</td>\n",
       "      <td>98.0</td>\n",
       "      <td>1230.0</td>\n",
       "    </tr>\n",
       "    <tr>\n",
       "      <th>2</th>\n",
       "      <td>Emerson</td>\n",
       "      <td>2019-09-08</td>\n",
       "      <td>European Championship Qualifiers</td>\n",
       "      <td>Italy</td>\n",
       "      <td>Finland</td>\n",
       "      <td>D</td>\n",
       "      <td>2.0</td>\n",
       "      <td>6.166667</td>\n",
       "      <td>0.0</td>\n",
       "      <td>0.666667</td>\n",
       "      <td>90.0</td>\n",
       "      <td>1.0</td>\n",
       "      <td>False</td>\n",
       "      <td>16.0</td>\n",
       "      <td>1569.0</td>\n",
       "      <td>57.0</td>\n",
       "      <td>1394.0</td>\n",
       "    </tr>\n",
       "    <tr>\n",
       "      <th>3</th>\n",
       "      <td>Emerson</td>\n",
       "      <td>2019-11-15</td>\n",
       "      <td>European Championship Qualifiers</td>\n",
       "      <td>Italy</td>\n",
       "      <td>Bosnia and Herzegovina</td>\n",
       "      <td>D</td>\n",
       "      <td>7.0</td>\n",
       "      <td>5.125000</td>\n",
       "      <td>0.0</td>\n",
       "      <td>0.500000</td>\n",
       "      <td>79.0</td>\n",
       "      <td>1.0</td>\n",
       "      <td>False</td>\n",
       "      <td>15.0</td>\n",
       "      <td>1593.0</td>\n",
       "      <td>48.0</td>\n",
       "      <td>1435.0</td>\n",
       "    </tr>\n",
       "    <tr>\n",
       "      <th>4</th>\n",
       "      <td>Jorginho</td>\n",
       "      <td>2019-03-26</td>\n",
       "      <td>European Championship Qualifiers</td>\n",
       "      <td>Italy</td>\n",
       "      <td>Liechtenstein</td>\n",
       "      <td>M</td>\n",
       "      <td>5.0</td>\n",
       "      <td>7.000000</td>\n",
       "      <td>0.0</td>\n",
       "      <td>0.000000</td>\n",
       "      <td>90.0</td>\n",
       "      <td>1.0</td>\n",
       "      <td>False</td>\n",
       "      <td>18.0</td>\n",
       "      <td>1539.0</td>\n",
       "      <td>181.0</td>\n",
       "      <td>937.0</td>\n",
       "    </tr>\n",
       "  </tbody>\n",
       "</table>\n",
       "</div>"
      ],
      "text/plain": [
       "  player_name       date                       league_name team_name  \\\n",
       "0     Emerson 2019-06-11  European Championship Qualifiers     Italy   \n",
       "1     Emerson 2019-09-05  European Championship Qualifiers     Italy   \n",
       "2     Emerson 2019-09-08  European Championship Qualifiers     Italy   \n",
       "3     Emerson 2019-11-15  European Championship Qualifiers     Italy   \n",
       "4    Jorginho 2019-03-26  European Championship Qualifiers     Italy   \n",
       "\n",
       "            opponent_name position  euro_score  prev_mean_euro_score  \\\n",
       "0  Bosnia and Herzegovina        D         2.5             10.000000   \n",
       "1                 Armenia        D         6.0              6.250000   \n",
       "2                 Finland        D         2.0              6.166667   \n",
       "3  Bosnia and Herzegovina        D         7.0              5.125000   \n",
       "4           Liechtenstein        M         5.0              7.000000   \n",
       "\n",
       "   prev_mean_goals  prev_mean_assists  prev_median_min  prev_starter_rate  \\\n",
       "0              0.0           1.000000             68.0                1.0   \n",
       "1              0.0           0.500000             79.0                1.0   \n",
       "2              0.0           0.666667             90.0                1.0   \n",
       "3              0.0           0.500000             79.0                1.0   \n",
       "4              0.0           0.000000             90.0                1.0   \n",
       "\n",
       "   is_friendlies  team_rank  team_total_points  opponent_rank  \\\n",
       "0          False       17.0             1550.0           35.0   \n",
       "1          False       16.0             1569.0           98.0   \n",
       "2          False       16.0             1569.0           57.0   \n",
       "3          False       15.0             1593.0           48.0   \n",
       "4          False       18.0             1539.0          181.0   \n",
       "\n",
       "   opponent_total_points  \n",
       "0                 1478.0  \n",
       "1                 1230.0  \n",
       "2                 1394.0  \n",
       "3                 1435.0  \n",
       "4                  937.0  "
      ]
     },
     "execution_count": 20,
     "metadata": {},
     "output_type": "execute_result"
    }
   ],
   "source": [
    "df.head()"
   ]
  },
  {
   "cell_type": "code",
   "execution_count": 21,
   "metadata": {},
   "outputs": [],
   "source": [
    "df[\"fifa_rank_diff\"] = df[\"team_rank\"] - df[\"opponent_rank\"]\n",
    "df[\"fifa_points_diff\"] = df[\"team_total_points\"] - df[\"opponent_total_points\"]"
   ]
  },
  {
   "cell_type": "code",
   "execution_count": 22,
   "metadata": {},
   "outputs": [],
   "source": [
    "df.to_csv(\"{}/interim/all_data.csv\".format(DATA_DIR), index=False)"
   ]
  }
 ],
 "metadata": {
  "kernelspec": {
   "display_name": "Python 3",
   "language": "python",
   "name": "python3"
  },
  "language_info": {
   "codemirror_mode": {
    "name": "ipython",
    "version": 3
   },
   "file_extension": ".py",
   "mimetype": "text/x-python",
   "name": "python",
   "nbconvert_exporter": "python",
   "pygments_lexer": "ipython3",
   "version": "3.8.5"
  }
 },
 "nbformat": 4,
 "nbformat_minor": 4
}
